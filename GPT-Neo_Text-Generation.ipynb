{
 "cells": [
  {
   "cell_type": "markdown",
   "id": "322dcba3-1eee-4c30-ba38-e8ae172d7f42",
   "metadata": {},
   "source": [
    "# GPT-Neo_Text-Generation"
   ]
  },
  {
   "cell_type": "markdown",
   "id": "da8fc19f-9de8-4fe5-9e9d-8cba0238645f",
   "metadata": {},
   "source": [
    "https://huggingface.co/EleutherAI/gpt-neo-2.7B\n",
    "\n",
    "https://github.com/theonejohann/GPT-Neo_Text-Generation\n",
    "\n",
    "---"
   ]
  },
  {
   "cell_type": "code",
   "execution_count": null,
   "id": "ef6bf28c-bf54-403f-a31b-7b0fd5da8d54",
   "metadata": {},
   "outputs": [],
   "source": [
    "!pip install transformers"
   ]
  },
  {
   "cell_type": "code",
   "execution_count": null,
   "id": "3529b55e-d696-4a6d-bf44-7720b79d89d6",
   "metadata": {},
   "outputs": [],
   "source": [
    "# Example\n",
    "from transformers import pipeline\n",
    "generator = pipeline('text-generation', model='EleutherAI/gpt-neo-2.7B')\n",
    "generator(\"EleutherAI has\", do_sample=True, min_length=50)"
   ]
  }
 ],
 "metadata": {
  "kernelspec": {
   "display_name": "Python 3 (ipykernel)",
   "language": "python",
   "name": "python3"
  },
  "language_info": {
   "codemirror_mode": {
    "name": "ipython",
    "version": 3
   },
   "file_extension": ".py",
   "mimetype": "text/x-python",
   "name": "python",
   "nbconvert_exporter": "python",
   "pygments_lexer": "ipython3",
   "version": "3.9.7"
  }
 },
 "nbformat": 4,
 "nbformat_minor": 5
}
